{
  "nbformat": 4,
  "nbformat_minor": 0,
  "metadata": {
    "colab": {
      "name": "Euler method - MCM.ipynb",
      "provenance": [],
      "authorship_tag": "ABX9TyM3wn14nPJ0UsUvjosy4sRb",
      "include_colab_link": true
    },
    "kernelspec": {
      "name": "python3",
      "display_name": "Python 3"
    },
    "language_info": {
      "name": "python"
    }
  },
  "cells": [
    {
      "cell_type": "markdown",
      "metadata": {
        "id": "view-in-github",
        "colab_type": "text"
      },
      "source": [
        "<a href=\"https://colab.research.google.com/github/smylebifa/MCM-Euler-Method-/blob/main/Euler_method_MCM.ipynb\" target=\"_parent\"><img src=\"https://colab.research.google.com/assets/colab-badge.svg\" alt=\"Open In Colab\"/></a>"
      ]
    },
    {
      "cell_type": "code",
      "metadata": {
        "id": "jDGFmph1LbZi"
      },
      "source": [
        "from math import exp\n",
        "\n",
        "# Функция для точного решения\n",
        "def f(x):\n",
        "  return (x*x/2 - x/2 + 1/4 + (3 / (4 * exp(2*x))))\n",
        "\n",
        "# Функция для численного решения\n",
        "def fn(x, y):\n",
        "  return x*x - 2*y"
      ],
      "execution_count": null,
      "outputs": []
    },
    {
      "cell_type": "code",
      "metadata": {
        "colab": {
          "base_uri": "https://localhost:8080/"
        },
        "id": "Z_bGZf5hxoyY",
        "outputId": "52c9e07e-b7b0-4967-92f7-a77df0cda8a8"
      },
      "source": [
        "x_array = []\n",
        "y_array = []\n",
        "yn_array = []\n",
        "\n",
        "h = 0.1\n",
        "x0 = 0\n",
        "y0 = 1\n",
        "xn = 1\n",
        "\n",
        "count_of_iterations = int((xn - x0) / h)\n",
        "\n",
        "for i in range(count_of_iterations + 1):\n",
        "  x_array.append(round((x0 + h * i), 5))\n",
        "print(f'Значения x на заданном интервале -  {x_array}')\n",
        "\n",
        "for i in range(count_of_iterations + 1):\n",
        "  y_array.append(round(f(x_array[i]), 5))\n",
        "print(f'Точные значения y на заданном интервале - {y_array}')\n",
        "\n",
        "yn_array.append(round(y0, 5))\n",
        "for i in range(1, count_of_iterations + 1):\n",
        "  x_prev = x_array[i - 1]\n",
        "  y_prev = yn_array[i - 1]\n",
        "  yn_array.append(round(y_prev + (h * fn(x_prev, y_prev)), 5)) \n",
        "print(f'Вычисленные методом Эйлера значения y на заданном интервале - {yn_array}')"
      ],
      "execution_count": null,
      "outputs": [
        {
          "output_type": "stream",
          "name": "stdout",
          "text": [
            "Значения x на заданном интервале -  [0.0, 0.1, 0.2, 0.3, 0.4, 0.5, 0.6, 0.7, 0.8, 0.9, 1.0]\n",
            "Точные значения y на заданном интервале - [1.0, 0.81905, 0.67274, 0.55661, 0.467, 0.40091, 0.3559, 0.32995, 0.32142, 0.32897, 0.3515]\n",
            "Вычисленные методом Эйлера значения y на заданном интервале - [1, 0.8, 0.641, 0.5168, 0.42244, 0.35395, 0.30816, 0.28253, 0.27502, 0.28402, 0.30822]\n"
          ]
        }
      ]
    },
    {
      "cell_type": "code",
      "metadata": {
        "id": "iCD4LPai8UxK",
        "colab": {
          "base_uri": "https://localhost:8080/",
          "height": 324
        },
        "outputId": "7d5dd108-c140-43c6-eb4c-7cf0e642d1e8"
      },
      "source": [
        "import numpy as np\n",
        "import matplotlib.pyplot as plt\n",
        "from matplotlib.lines import Line2D\n",
        "from matplotlib.patches import *\n",
        "\n",
        "function1 = Line2D(x_array, y_array, color='c')\n",
        "function2 = Line2D(x_array, yn_array, color='m')\n",
        "\n",
        "fig = plt.figure(figsize = (10, 5))\n",
        "ax = fig.add_subplot()\n",
        "\n",
        "ax.add_line(function1)\n",
        "ax.add_line(function2)\n",
        "ax.set(xlim=(-0.2, 1.2), ylim=(0, 1.2))\n",
        "\n",
        "ax.legend((function1, function2), ['Точное решение', 'Численное решение методом Эйлера'], bbox_to_anchor=(0.95, 0.9), facecolor='#ddd')\n",
        "\n",
        "plt.show()"
      ],
      "execution_count": 90,
      "outputs": [
        {
          "output_type": "display_data",
          "data": {
            "image/png": "[encoded data removed]",
            "text/plain": [
              "<Figure size 720x360 with 1 Axes>"
            ]
          },
          "metadata": {
            "needs_background": "light"
          }
        }
      ]
    }
  ]
}